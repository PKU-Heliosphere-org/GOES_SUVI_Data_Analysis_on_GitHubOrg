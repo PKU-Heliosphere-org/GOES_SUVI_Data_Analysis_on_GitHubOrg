{
 "cells": [
  {
   "cell_type": "code",
   "execution_count": 8,
   "metadata": {},
   "outputs": [
    {
     "ename": "ModuleNotFoundError",
     "evalue": "No module named 'lxml'",
     "output_type": "error",
     "traceback": [
      "\u001b[0;31m---------------------------------------------------------------------------\u001b[0m",
      "\u001b[0;31mModuleNotFoundError\u001b[0m                       Traceback (most recent call last)",
      "\u001b[1;32m/Users/jshept/Documents/GitHub_org/GOES_SUVI_Data_Analysis_on_GitHubOrg/He.Jiansen/load_plot_images_from_GOES_SUVI.ipynb 单元格 1\u001b[0m line \u001b[0;36m2\n\u001b[1;32m      <a href='vscode-notebook-cell:/Users/jshept/Documents/GitHub_org/GOES_SUVI_Data_Analysis_on_GitHubOrg/He.Jiansen/load_plot_images_from_GOES_SUVI.ipynb#W0sZmlsZQ%3D%3D?line=0'>1</a>\u001b[0m \u001b[39mimport\u001b[39;00m \u001b[39msunpy\u001b[39;00m\u001b[39m.\u001b[39;00m\u001b[39mmap\u001b[39;00m\n\u001b[0;32m----> <a href='vscode-notebook-cell:/Users/jshept/Documents/GitHub_org/GOES_SUVI_Data_Analysis_on_GitHubOrg/He.Jiansen/load_plot_images_from_GOES_SUVI.ipynb#W0sZmlsZQ%3D%3D?line=1'>2</a>\u001b[0m \u001b[39mfrom\u001b[39;00m \u001b[39msunpy\u001b[39;00m\u001b[39m.\u001b[39;00m\u001b[39mnet\u001b[39;00m \u001b[39mimport\u001b[39;00m Fido, attrs \u001b[39mas\u001b[39;00m a\n\u001b[1;32m      <a href='vscode-notebook-cell:/Users/jshept/Documents/GitHub_org/GOES_SUVI_Data_Analysis_on_GitHubOrg/He.Jiansen/load_plot_images_from_GOES_SUVI.ipynb#W0sZmlsZQ%3D%3D?line=3'>4</a>\u001b[0m \u001b[39m# 定义URL和文件名\u001b[39;00m\n\u001b[1;32m      <a href='vscode-notebook-cell:/Users/jshept/Documents/GitHub_org/GOES_SUVI_Data_Analysis_on_GitHubOrg/He.Jiansen/load_plot_images_from_GOES_SUVI.ipynb#W0sZmlsZQ%3D%3D?line=4'>5</a>\u001b[0m _url \u001b[39m=\u001b[39m \u001b[39m\"\u001b[39m\u001b[39mhttps://data.ngdc.noaa.gov/platforms/solar-space-observing-satellites/goes/goes18/l2/data/suvi-l2-ci195/2023/03/26/\u001b[39m\u001b[39m\"\u001b[39m\n",
      "File \u001b[0;32m/Library/Frameworks/Python.framework/Versions/3.10/lib/python3.10/site-packages/sunpy/net/__init__.py:7\u001b[0m\n\u001b[1;32m      5\u001b[0m \u001b[39mfrom\u001b[39;00m \u001b[39msunpy\u001b[39;00m\u001b[39m.\u001b[39;00m\u001b[39mnet\u001b[39;00m \u001b[39mimport\u001b[39;00m dataretriever \u001b[39mas\u001b[39;00m _\n\u001b[1;32m      6\u001b[0m \u001b[39mfrom\u001b[39;00m \u001b[39msunpy\u001b[39;00m\u001b[39m.\u001b[39;00m\u001b[39mnet\u001b[39;00m \u001b[39mimport\u001b[39;00m hek \u001b[39mas\u001b[39;00m _\n\u001b[0;32m----> 7\u001b[0m \u001b[39mfrom\u001b[39;00m \u001b[39msunpy\u001b[39;00m\u001b[39m.\u001b[39;00m\u001b[39mnet\u001b[39;00m \u001b[39mimport\u001b[39;00m helio \u001b[39mas\u001b[39;00m _\n\u001b[1;32m      8\u001b[0m \u001b[39mfrom\u001b[39;00m \u001b[39msunpy\u001b[39;00m\u001b[39m.\u001b[39;00m\u001b[39mnet\u001b[39;00m \u001b[39mimport\u001b[39;00m jsoc \u001b[39mas\u001b[39;00m _\n\u001b[1;32m      9\u001b[0m \u001b[39mfrom\u001b[39;00m \u001b[39msunpy\u001b[39;00m\u001b[39m.\u001b[39;00m\u001b[39mnet\u001b[39;00m \u001b[39mimport\u001b[39;00m vso \u001b[39mas\u001b[39;00m _\n",
      "File \u001b[0;32m/Library/Frameworks/Python.framework/Versions/3.10/lib/python3.10/site-packages/sunpy/net/helio/__init__.py:6\u001b[0m\n\u001b[1;32m      1\u001b[0m \u001b[39m\"\"\"\u001b[39;00m\n\u001b[1;32m      2\u001b[0m \u001b[39mA Module for accessing the HELIO web service\u001b[39;00m\n\u001b[1;32m      3\u001b[0m \u001b[39m\"\"\"\u001b[39;00m\n\u001b[1;32m      5\u001b[0m \u001b[39mfrom\u001b[39;00m \u001b[39m.\u001b[39;00m\u001b[39mchaincode\u001b[39;00m \u001b[39mimport\u001b[39;00m \u001b[39m*\u001b[39m\n\u001b[0;32m----> 6\u001b[0m \u001b[39mfrom\u001b[39;00m \u001b[39m.\u001b[39;00m\u001b[39mhec\u001b[39;00m \u001b[39mimport\u001b[39;00m \u001b[39m*\u001b[39m\n\u001b[1;32m      7\u001b[0m \u001b[39mfrom\u001b[39;00m \u001b[39m.\u001b[39;00m\u001b[39mparser\u001b[39;00m \u001b[39mimport\u001b[39;00m \u001b[39m*\u001b[39m\n\u001b[1;32m      9\u001b[0m __all__ \u001b[39m=\u001b[39m [\u001b[39m'\u001b[39m\u001b[39mHECClient\u001b[39m\u001b[39m'\u001b[39m, \u001b[39m'\u001b[39m\u001b[39mHECResponse\u001b[39m\u001b[39m'\u001b[39m, \u001b[39m'\u001b[39m\u001b[39mChaincode\u001b[39m\u001b[39m'\u001b[39m]  \u001b[39m# noqa: F405\u001b[39;00m\n",
      "File \u001b[0;32m/Library/Frameworks/Python.framework/Versions/3.10/lib/python3.10/site-packages/sunpy/net/helio/hec.py:7\u001b[0m\n\u001b[1;32m      4\u001b[0m \u001b[39mimport\u001b[39;00m \u001b[39mio\u001b[39;00m\n\u001b[1;32m      5\u001b[0m \u001b[39mimport\u001b[39;00m \u001b[39mos\u001b[39;00m\n\u001b[0;32m----> 7\u001b[0m \u001b[39mfrom\u001b[39;00m \u001b[39mlxml\u001b[39;00m \u001b[39mimport\u001b[39;00m etree\n\u001b[1;32m      8\u001b[0m \u001b[39mfrom\u001b[39;00m \u001b[39mrequests\u001b[39;00m \u001b[39mimport\u001b[39;00m Session\n\u001b[1;32m      9\u001b[0m \u001b[39mfrom\u001b[39;00m \u001b[39mzeep\u001b[39;00m \u001b[39mimport\u001b[39;00m Client\n",
      "\u001b[0;31mModuleNotFoundError\u001b[0m: No module named 'lxml'"
     ]
    }
   ],
   "source": [
    "import sunpy.map\n",
    "from sunpy.net import Fido, attrs as a\n",
    "\n",
    "# 定义URL和文件名\n",
    "_url = \"https://data.ngdc.noaa.gov/platforms/solar-space-observing-satellites/goes/goes18/l2/data/suvi-l2-ci195/2023/03/26/\"\n",
    "_file = \"dr_suvi-l2-ci195_g18_s20230326T000000Z_e20230326T000400Z_v1-0-2.fits\"\n",
    "\n",
    "# 下载FITS文件\n",
    "downloaded_files = Fido.fetch(a.File(_url + _file), path='./')\n",
    "\n",
    "# 读取FITS文件并创建SunPy Map\n",
    "sunpy_map = sunpy.map.Map(downloaded_files[0])\n",
    "\n",
    "# 绘制太阳图像\n",
    "sunpy_map.plot()\n",
    "\n",
    "# 显示图像\n",
    "plt.show()\n"
   ]
  },
  {
   "cell_type": "code",
   "execution_count": 3,
   "metadata": {},
   "outputs": [
    {
     "name": "stdout",
     "output_type": "stream",
     "text": [
      "8\n"
     ]
    }
   ],
   "source": [
    "n = input()\n",
    "n = int(n)\n",
    "s = 0\n",
    "for i in range(2,n):\n",
    "    if n // 3 or n //2 or n // 5:\n",
    "        s += 1\n",
    "print(s)"
   ]
  }
 ],
 "metadata": {
  "kernelspec": {
   "display_name": "Python 3",
   "language": "python",
   "name": "python3"
  },
  "language_info": {
   "codemirror_mode": {
    "name": "ipython",
    "version": 3
   },
   "file_extension": ".py",
   "mimetype": "text/x-python",
   "name": "python",
   "nbconvert_exporter": "python",
   "pygments_lexer": "ipython3",
   "version": "3.10.11"
  },
  "orig_nbformat": 4
 },
 "nbformat": 4,
 "nbformat_minor": 2
}
