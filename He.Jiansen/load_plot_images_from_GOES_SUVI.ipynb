{
 "cells": [
  {
   "cell_type": "code",
   "execution_count": null,
   "metadata": {},
   "outputs": [],
   "source": [
    "_url = \"https://data.ngdc.noaa.gov/platforms/solar-space-observing-satellites/goes/goes18/l2/data/suvi-l2-ci195/2023/03/26/\"\n",
    "_file = \"dr_suvi-l2-ci195_g18_s20230326T000000Z_e20230326T000400Z_v1-0-2.fits\"\n"
   ]
  }
 ],
 "metadata": {
  "language_info": {
   "name": "python"
  },
  "orig_nbformat": 4
 },
 "nbformat": 4,
 "nbformat_minor": 2
}
